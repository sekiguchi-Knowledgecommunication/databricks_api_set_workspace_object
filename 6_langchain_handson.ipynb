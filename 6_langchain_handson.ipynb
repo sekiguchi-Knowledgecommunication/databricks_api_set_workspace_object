{
  "cells": [
    {
      "cell_type": "markdown",
      "metadata": {
        "id": "view-in-github",
        "colab_type": "text"
      },
      "source": [
        "<a href=\"https://colab.research.google.com/github/sekiguchi-Knowledgecommunication/databricks_api_set_workspace_object/blob/main/6_langchain_handson.ipynb\" target=\"_parent\"><img src=\"https://colab.research.google.com/assets/colab-badge.svg\" alt=\"Open In Colab\"/></a>"
      ]
    },
    {
      "cell_type": "markdown",
      "metadata": {
        "id": "ti5EelwyJabM"
      },
      "source": [
        "# 6. Advanced RAG\n"
      ]
    },
    {
      "cell_type": "code",
      "execution_count": 3,
      "metadata": {
        "id": "D5jM5JikJabN",
        "colab": {
          "base_uri": "https://localhost:8080/",
          "height": 430
        },
        "outputId": "d36e15d6-ea3f-4b90-cea0-4f66cb5f120f"
      },
      "outputs": [
        {
          "output_type": "stream",
          "name": "stdout",
          "text": [
            "Collecting numpy==1.26.4\n",
            "  Downloading numpy-1.26.4-cp311-cp311-manylinux_2_17_x86_64.manylinux2014_x86_64.whl.metadata (61 kB)\n",
            "\u001b[?25l     \u001b[90m━━━━━━━━━━━━━━━━━━━━━━━━━━━━━━━━━━━━━━━━\u001b[0m \u001b[32m0.0/61.0 kB\u001b[0m \u001b[31m?\u001b[0m eta \u001b[36m-:--:--\u001b[0m\r\u001b[2K     \u001b[90m━━━━━━━━━━━━━━━━━━━━━━━━━━━━━━━━━━━━━━━━\u001b[0m \u001b[32m61.0/61.0 kB\u001b[0m \u001b[31m2.1 MB/s\u001b[0m eta \u001b[36m0:00:00\u001b[0m\n",
            "\u001b[?25hDownloading numpy-1.26.4-cp311-cp311-manylinux_2_17_x86_64.manylinux2014_x86_64.whl (18.3 MB)\n",
            "\u001b[2K   \u001b[90m━━━━━━━━━━━━━━━━━━━━━━━━━━━━━━━━━━━━━━━━\u001b[0m \u001b[32m18.3/18.3 MB\u001b[0m \u001b[31m83.2 MB/s\u001b[0m eta \u001b[36m0:00:00\u001b[0m\n",
            "\u001b[?25hInstalling collected packages: numpy\n",
            "  Attempting uninstall: numpy\n",
            "    Found existing installation: numpy 2.0.2\n",
            "    Uninstalling numpy-2.0.2:\n",
            "      Successfully uninstalled numpy-2.0.2\n",
            "\u001b[31mERROR: pip's dependency resolver does not currently take into account all the packages that are installed. This behaviour is the source of the following dependency conflicts.\n",
            "opencv-python 4.12.0.88 requires numpy<2.3.0,>=2; python_version >= \"3.9\", but you have numpy 1.26.4 which is incompatible.\n",
            "opencv-contrib-python 4.12.0.88 requires numpy<2.3.0,>=2; python_version >= \"3.9\", but you have numpy 1.26.4 which is incompatible.\n",
            "opencv-python-headless 4.12.0.88 requires numpy<2.3.0,>=2; python_version >= \"3.9\", but you have numpy 1.26.4 which is incompatible.\n",
            "thinc 8.3.6 requires numpy<3.0.0,>=2.0.0, but you have numpy 1.26.4 which is incompatible.\u001b[0m\u001b[31m\n",
            "\u001b[0mSuccessfully installed numpy-1.26.4\n"
          ]
        },
        {
          "output_type": "display_data",
          "data": {
            "application/vnd.colab-display-data+json": {
              "pip_warning": {
                "packages": [
                  "numpy"
                ]
              },
              "id": "dbeb7f5a6ae0481fb6a97e568694a768"
            }
          },
          "metadata": {}
        }
      ],
      "source": [
        "!pip install numpy==1.26.4"
      ]
    },
    {
      "cell_type": "code",
      "execution_count": 1,
      "metadata": {
        "id": "W1NB8BKFJabO",
        "colab": {
          "base_uri": "https://localhost:8080/"
        },
        "outputId": "464c30a3-778e-4f9a-975d-fb13e417315e"
      },
      "outputs": [
        {
          "output_type": "stream",
          "name": "stdout",
          "text": [
            "1.26.4\n"
          ]
        }
      ],
      "source": [
        "# 【注意】\n",
        "# 上記の `!pip install numpy==1.26.4` を実行したあと、\n",
        "# Google Colab 上部のメニューから「ランタイム」の「セッションを再起動する」を実行してください。\n",
        "# その後このセルを実行して `1.26.4` と表示されることを確認してください。\n",
        "\n",
        "import numpy as np\n",
        "\n",
        "print(np.__version__)\n",
        "assert np.__version__ == \"1.26.4\""
      ]
    },
    {
      "cell_type": "code",
      "execution_count": null,
      "metadata": {
        "id": "qpQ-p0gHJabP"
      },
      "outputs": [],
      "source": [
        "!pip install langchain-core==0.3.0 langchain-openai==0.2.0 \\\n",
        "    langchain-community==0.3.0 GitPython==3.1.43 \\\n",
        "    langchain-chroma==0.1.4 tavily-python==0.5.0 pydantic==2.10.6"
      ]
    },
    {
      "cell_type": "code",
      "execution_count": null,
      "metadata": {
        "id": "PWvMbIJVJabR"
      },
      "outputs": [],
      "source": [
        "!pip install langchain-cohere==0.3.0"
      ]
    },
    {
      "cell_type": "code",
      "execution_count": 1,
      "metadata": {
        "execution": {
          "iopub.execute_input": "2024-06-28T02:32:34.489407Z",
          "iopub.status.busy": "2024-06-28T02:32:34.488775Z",
          "iopub.status.idle": "2024-06-28T02:32:34.491583Z",
          "shell.execute_reply": "2024-06-28T02:32:34.491086Z"
        },
        "id": "MOOMfLeWJabO"
      },
      "outputs": [],
      "source": [
        "import os\n",
        "from google.colab import userdata\n",
        "\n",
        "os.environ[\"OPENAI_API_KEY\"] = userdata.get(\"OPENAI_API_KEY\")\n",
        "os.environ[\"LANGCHAIN_TRACING_V2\"] = \"true\"\n",
        "os.environ[\"LANGCHAIN_ENDPOINT\"] = \"https://api.smith.langchain.com\"\n",
        "os.environ[\"LANGCHAIN_API_KEY\"] = userdata.get(\"LANGCHAIN_API_KEY\")\n",
        "os.environ[\"LANGCHAIN_PROJECT\"] = \"agent-book\"\n",
        "os.environ[\"TAVILY_API_KEY\"] = userdata.get(\"TAVILY_API_KEY\")"
      ]
    },
    {
      "cell_type": "markdown",
      "metadata": {
        "id": "Pb417L50JabP"
      },
      "source": [
        "## 6.2. ハンズオンの準備\n"
      ]
    },
    {
      "cell_type": "code",
      "execution_count": 6,
      "metadata": {
        "id": "r39qFXE9JabP",
        "colab": {
          "base_uri": "https://localhost:8080/"
        },
        "outputId": "110f3977-30ae-4020-9b47-29ceaab8eaad"
      },
      "outputs": [
        {
          "output_type": "stream",
          "name": "stdout",
          "text": [
            "90\n"
          ]
        }
      ],
      "source": [
        "from langchain_community.document_loaders import GitLoader\n",
        "\n",
        "\n",
        "def file_filter(file_path: str) -> bool:\n",
        "    return file_path.endswith(\".mdx\")\n",
        "\n",
        "\n",
        "loader = GitLoader(\n",
        "    clone_url=\"https://github.com/Stability-AI/stablediffusion\",\n",
        "    repo_path=\"./stablediffusion\",\n",
        "    branch=\"main\",\n",
        "    # file_filter=file_filter,\n",
        ")\n",
        "\n",
        "documents = loader.load()\n",
        "print(len(documents))"
      ]
    },
    {
      "cell_type": "code",
      "execution_count": 7,
      "metadata": {
        "id": "o-zZbplxJabP",
        "colab": {
          "base_uri": "https://localhost:8080/"
        },
        "outputId": "1e947fb2-f1cc-437c-8114-eccdbbfcd88b"
      },
      "outputs": [
        {
          "output_type": "stream",
          "name": "stderr",
          "text": [
            "ERROR:chromadb.telemetry.product.posthog:Failed to send telemetry event ClientStartEvent: capture() takes 1 positional argument but 3 were given\n",
            "ERROR:chromadb.telemetry.product.posthog:Failed to send telemetry event ClientCreateCollectionEvent: capture() takes 1 positional argument but 3 were given\n"
          ]
        }
      ],
      "source": [
        "from langchain_chroma import Chroma\n",
        "from langchain_openai import OpenAIEmbeddings\n",
        "\n",
        "embeddings = OpenAIEmbeddings(model=\"text-embedding-3-small\")\n",
        "db = Chroma.from_documents(documents, embeddings)"
      ]
    },
    {
      "cell_type": "code",
      "execution_count": 10,
      "metadata": {
        "id": "ngVRcRsqJabP"
      },
      "outputs": [],
      "source": [
        "from langchain_core.output_parsers import StrOutputParser\n",
        "from langchain_core.prompts import ChatPromptTemplate\n",
        "from langchain_core.runnables import RunnablePassthrough\n",
        "from langchain_openai import ChatOpenAI\n",
        "\n",
        "prompt = ChatPromptTemplate.from_template('''\\\n",
        "以下の文脈だけを踏まえて質問に回答してください。\n",
        "\n",
        "文脈: \"\"\"\n",
        "{context}\n",
        "\"\"\"\n",
        "\n",
        "質問: {question}\n",
        "''')\n",
        "\n",
        "model = ChatOpenAI(model=\"gpt-4o-mini\", temperature=0)\n",
        "\n",
        "retriever = db.as_retriever()\n",
        "\n",
        "chain = {\n",
        "    \"question\": RunnablePassthrough(),\n",
        "    \"context\": retriever,\n",
        "} | prompt | model | StrOutputParser()\n",
        "\n",
        "chain.invoke(\"StableDifusionの概要を教えて\")"
      ]
    },
    {
      "cell_type": "markdown",
      "metadata": {
        "id": "QTrYutmiJabP"
      },
      "source": [
        "## 6.3. 検索クエリの工夫\n"
      ]
    },
    {
      "cell_type": "markdown",
      "metadata": {
        "id": "HUUMiDHUJabQ"
      },
      "source": [
        "### HyDE（Hypothetical Document Embeddings）\n"
      ]
    },
    {
      "cell_type": "code",
      "execution_count": 11,
      "metadata": {
        "id": "vq8UqfGVJabQ"
      },
      "outputs": [],
      "source": [
        "hypothetical_prompt = ChatPromptTemplate.from_template(\"\"\"\\\n",
        "次の質問に回答する一文を書いてください。\n",
        "\n",
        "質問: {question}\n",
        "\"\"\")\n",
        "\n",
        "hypothetical_chain = hypothetical_prompt | model | StrOutputParser()"
      ]
    },
    {
      "cell_type": "code",
      "execution_count": 12,
      "metadata": {
        "id": "SAwxbBNqJabQ",
        "colab": {
          "base_uri": "https://localhost:8080/",
          "height": 144
        },
        "outputId": "d3e8c662-1a3b-49ed-8452-370161004cf8"
      },
      "outputs": [
        {
          "output_type": "execute_result",
          "data": {
            "text/plain": [
              "'Stable Diffusionは、テキストから画像を生成するための拡散ベースのモデルです。このモデルは、特に高解像度の画像合成に優れており、Latent Diffusion Model（LDM）として知られています。主な特徴は以下の通りです：\\n\\n- **開発者**: Robin Rombach、Patrick Esserなど。\\n- **モデルタイプ**: テキストから画像への生成モデル。\\n- **言語**: 主に英語。\\n- **ライセンス**: CreativeML Open RAIL++-M License。\\n- **用途**: 研究目的での使用が推奨されており、アート生成、デザイン、教育ツール、生成モデルの研究などに利用されます。\\n- **制限**: 完全なフォトリアリズムを達成できず、テキストを正確に描写することが難しい場合があります。また、英語以外の言語での性能が劣ることがあります。\\n- **バイアス**: トレーニングデータに基づく社会的バイアスを反映する可能性があり、特に白人や西洋文化がデフォルトとして扱われることが多いです。\\n\\nStable Diffusionは、特にアートやデザインの分野での創造的なツールとして注目されており、さまざまなバージョン（例：2.0、2.1）が存在し、それぞれ異なる機能や性能を持っています。'"
            ],
            "application/vnd.google.colaboratory.intrinsic+json": {
              "type": "string"
            }
          },
          "metadata": {},
          "execution_count": 12
        }
      ],
      "source": [
        "hyde_rag_chain = {\n",
        "    \"question\": RunnablePassthrough(),\n",
        "    \"context\": hypothetical_chain | retriever,\n",
        "} | prompt | model | StrOutputParser()\n",
        "\n",
        "hyde_rag_chain.invoke(\"Stablediffusionの概要を教えて\")"
      ]
    },
    {
      "cell_type": "markdown",
      "metadata": {
        "id": "_yw0BnILJabQ"
      },
      "source": [
        "### 複数の検索クエリの生成\n"
      ]
    },
    {
      "cell_type": "code",
      "execution_count": 11,
      "metadata": {
        "id": "GGpqVSfwJabQ"
      },
      "outputs": [],
      "source": [
        "from pydantic import BaseModel, Field\n",
        "\n",
        "\n",
        "class QueryGenerationOutput(BaseModel):\n",
        "    queries: list[str] = Field(..., description=\"検索クエリのリスト\")\n",
        "\n",
        "\n",
        "query_generation_prompt = ChatPromptTemplate.from_template(\"\"\"\\\n",
        "質問に対してベクターデータベースから関連文書を検索するために、\n",
        "3つの異なる検索クエリを生成してください。\n",
        "距離ベースの類似性検索の限界を克服するために、\n",
        "ユーザーの質問に対して複数の視点を提供することが目標です。\n",
        "\n",
        "質問: {question}\n",
        "\"\"\")\n",
        "\n",
        "query_generation_chain = (\n",
        "    query_generation_prompt\n",
        "    | model.with_structured_output(QueryGenerationOutput)\n",
        "    | (lambda x: x.queries)\n",
        ")"
      ]
    },
    {
      "cell_type": "code",
      "execution_count": 12,
      "metadata": {
        "id": "hUaok_iZJabQ",
        "colab": {
          "base_uri": "https://localhost:8080/",
          "height": 181
        },
        "outputId": "a533403f-feb5-4f49-86dc-7a887b938c2e"
      },
      "outputs": [
        {
          "output_type": "stream",
          "name": "stderr",
          "text": [
            "ERROR:chromadb.telemetry.product.posthog:Failed to send telemetry event CollectionQueryEvent: capture() takes 1 positional argument but 3 were given\n"
          ]
        },
        {
          "output_type": "execute_result",
          "data": {
            "text/plain": [
              "'Stable Diffusionは、テキストから画像を生成するための潜在拡散モデルです。このモデルは、特に画像生成や修正に使用され、ユーザーが提供するテキストプロンプトに基づいて高解像度の画像を生成します。Stable Diffusionは、OpenCLIP-ViT/Hという事前学習済みのテキストエンコーダを使用し、画像を潜在空間にエンコードするオートエンコーダと、拡散モデルを組み合わせています。\\n\\n主な特徴としては以下があります：\\n\\n1. **モデルのバージョン**: Stable Diffusionは複数のバージョンがあり、最新のものは2.1です。各バージョンは異なる解像度や機能を持っています。\\n\\n2. **画像生成**: ユーザーが指定したテキストプロンプトに基づいて、768x768ピクセルの画像を生成します。\\n\\n3. **画像修正機能**: 画像の修正や拡張、インペインティング（画像の一部を修正する技術）などの機能も提供しています。\\n\\n4. **バイアスと限界**: モデルは訓練データに基づくバイアスを反映する可能性があり、特に英語以外の言語での性能が劣ることがあります。また、生成される画像は必ずしもフォトリアリズムを達成するわけではありません。\\n\\n5. **ライセンス**: モデルはCreativeML Open RAIL++-Mライセンスの下で提供されており、研究目的での使用が推奨されています。\\n\\nStable Diffusionは、アートやデザイン、教育ツールなど、さまざまなクリエイティブな用途に利用されていますが、悪用を避けるためのガードレールを設けることが求められています。'"
            ],
            "application/vnd.google.colaboratory.intrinsic+json": {
              "type": "string"
            }
          },
          "metadata": {},
          "execution_count": 12
        }
      ],
      "source": [
        "multi_query_rag_chain = {\n",
        "    \"question\": RunnablePassthrough(),\n",
        "    \"context\": query_generation_chain | retriever.map(),\n",
        "} | prompt | model | StrOutputParser()\n",
        "\n",
        "multi_query_rag_chain.invoke(\"Stable Diffusionの概要を教えて\")"
      ]
    },
    {
      "cell_type": "markdown",
      "metadata": {
        "id": "mP9hJ8RJJabQ"
      },
      "source": [
        "## 6.4. 検索後の工夫\n"
      ]
    },
    {
      "cell_type": "markdown",
      "metadata": {
        "id": "sNghjT3XJabQ"
      },
      "source": [
        "### RAG Fusion\n"
      ]
    },
    {
      "cell_type": "code",
      "execution_count": 14,
      "metadata": {
        "id": "87OhLrxVJabQ"
      },
      "outputs": [],
      "source": [
        "from langchain_core.documents import Document\n",
        "\n",
        "\n",
        "def reciprocal_rank_fusion(\n",
        "    retriever_outputs: list[list[Document]],\n",
        "    k: int = 60,\n",
        ") -> list[str]:\n",
        "    # 各ドキュメントのコンテンツ (文字列) とそのスコアの対応を保持する辞書を準備\n",
        "    content_score_mapping = {}\n",
        "\n",
        "    # 検索クエリごとにループ\n",
        "    for docs in retriever_outputs:\n",
        "        # 検索結果のドキュメントごとにループ\n",
        "        for rank, doc in enumerate(docs):\n",
        "            content = doc.page_content\n",
        "\n",
        "            # 初めて登場したコンテンツの場合はスコアを0で初期化\n",
        "            if content not in content_score_mapping:\n",
        "                content_score_mapping[content] = 0\n",
        "\n",
        "            # (1 / (順位 + k)) のスコアを加算\n",
        "            content_score_mapping[content] += 1 / (rank + k)\n",
        "\n",
        "    # スコアの大きい順にソート\n",
        "    ranked = sorted(content_score_mapping.items(), key=lambda x: x[1], reverse=True)  # noqa\n",
        "    return [content for content, _ in ranked]"
      ]
    },
    {
      "cell_type": "code",
      "execution_count": 17,
      "metadata": {
        "id": "a0TaUFQYJabQ",
        "colab": {
          "base_uri": "https://localhost:8080/",
          "height": 162
        },
        "outputId": "4b1fdc51-0ae7-481c-e639-6e88ff58ffd2"
      },
      "outputs": [
        {
          "output_type": "execute_result",
          "data": {
            "text/plain": [
              "'Stable Diffusionは、テキストから画像を生成するための潜在拡散モデルです。このモデルは、OpenCLIP-ViT/Hテキストエンコーダを使用して、テキストプロンプトに基づいて画像を生成および修正することができます。Stable Diffusionは、特に高解像度の画像合成に優れており、768x768ピクセルの出力を生成します。\\n\\n主な特徴としては、以下の点が挙げられます：\\n\\n1. **モデルアーキテクチャ**: Stable Diffusionは、オートエンコーダと拡散モデルを組み合わせた構造を持ち、オートエンコーダの潜在空間で訓練されます。\\n\\n2. **トレーニングデータ**: LAION-5Bデータセットを使用して訓練されており、成人向けや暴力的なコンテンツを含む可能性がありますが、NSFWフィルタリングが施されています。\\n\\n3. **利用用途**: アート生成、デザイン、教育ツール、生成モデルの研究など、さまざまな用途に利用されます。ただし、悪用や誤用を避けるためのガードレールを設けることが推奨されています。\\n\\n4. **バイアスと限界**: モデルは、訓練データに基づくバイアスを反映する可能性があり、特に英語以外の言語での性能が劣ることがあります。また、生成される画像のフォトリアリズムには限界があります。\\n\\nStable Diffusionは、生成された画像に対して無形のウォーターマークを追加する機能も備えており、機械生成された画像であることを識別する手助けをします。'"
            ],
            "application/vnd.google.colaboratory.intrinsic+json": {
              "type": "string"
            }
          },
          "metadata": {},
          "execution_count": 17
        }
      ],
      "source": [
        "rag_fusion_chain = {\n",
        "    \"question\": RunnablePassthrough(),\n",
        "    \"context\": query_generation_chain | retriever.map() | reciprocal_rank_fusion,\n",
        "} | prompt | model | StrOutputParser()\n",
        "\n",
        "rag_fusion_chain.invoke(\"Stablediffusionの概要を教えて\")"
      ]
    },
    {
      "cell_type": "markdown",
      "metadata": {
        "id": "jCy0hEVVJabR"
      },
      "source": [
        "### Cohere のリランクモデルを使用する準備\n"
      ]
    },
    {
      "cell_type": "code",
      "execution_count": 2,
      "metadata": {
        "id": "GCf5oyGTJabR"
      },
      "outputs": [],
      "source": [
        "os.environ[\"COHERE_API_KEY\"] = userdata.get(\"COHERE_API_KEY\")"
      ]
    },
    {
      "cell_type": "markdown",
      "metadata": {
        "id": "HsNkXIVDJabR"
      },
      "source": [
        "### Cohere のリランクモデルの導入\n"
      ]
    },
    {
      "cell_type": "code",
      "execution_count": 15,
      "metadata": {
        "id": "biTtBawVJabR",
        "colab": {
          "base_uri": "https://localhost:8080/",
          "height": 108
        },
        "outputId": "6c6626f6-1b2e-4ab4-eb41-e84af51740a1"
      },
      "outputs": [
        {
          "output_type": "execute_result",
          "data": {
            "text/plain": [
              "'Stable Diffusionは、テキストから画像を生成するための潜在拡散モデルです。このモデルは、CLIP ViT-H/14テキストエンコーダーのペンultimateテキスト埋め込みに条件付けられています。Stable Diffusionは、768x768ピクセルの出力を生成し、さまざまなバージョン（例：2.0、2.1）が存在し、それぞれ異なる機能や解像度を持っています。\\n\\n主な機能には、画像の生成、画像の修正（img2img）、画像のアップスケーリング、インペインティング（画像の一部を修正すること）などがあります。これらの機能は、特定のモデルや設定を使用して実行され、ユーザーはテキストプロンプトを入力することで画像を生成できます。\\n\\nStable Diffusionは、オープンソースであり、Hugging Faceを通じてモデルの重みが提供されています。また、モデルは継続的に更新され、新しいチェックポイントが追加される予定です。'"
            ],
            "application/vnd.google.colaboratory.intrinsic+json": {
              "type": "string"
            }
          },
          "metadata": {},
          "execution_count": 15
        }
      ],
      "source": [
        "from typing import Any\n",
        "\n",
        "from langchain_cohere import CohereRerank\n",
        "from langchain_core.documents import Document\n",
        "\n",
        "\n",
        "def rerank(inp: dict[str, Any], top_n: int = 3) -> list[Document]:\n",
        "    question = inp[\"question\"]\n",
        "    documents = inp[\"documents\"]\n",
        "\n",
        "    cohere_reranker = CohereRerank(model=\"rerank-multilingual-v3.0\", top_n=top_n)\n",
        "    return cohere_reranker.compress_documents(documents=documents, query=question)\n",
        "\n",
        "\n",
        "rerank_rag_chain = (\n",
        "    {\n",
        "        \"question\": RunnablePassthrough(),\n",
        "        \"documents\": retriever,\n",
        "    }\n",
        "    | RunnablePassthrough.assign(context=rerank)\n",
        "    | prompt | model | StrOutputParser()\n",
        ")\n",
        "\n",
        "rerank_rag_chain.invoke(\"Stablediffusionの概要を教えて\")"
      ]
    },
    {
      "cell_type": "markdown",
      "metadata": {
        "id": "9SSS4Rz2JabR"
      },
      "source": [
        "## 6.5. 複数の Retriever を使う工夫\n"
      ]
    },
    {
      "cell_type": "markdown",
      "metadata": {
        "id": "UGFwpdBrJabR"
      },
      "source": [
        "### LLM によるルーティング\n"
      ]
    },
    {
      "cell_type": "code",
      "execution_count": 16,
      "metadata": {
        "id": "shy9xP2aJabR"
      },
      "outputs": [],
      "source": [
        "from langchain_community.retrievers import TavilySearchAPIRetriever\n",
        "\n",
        "langchain_document_retriever = retriever.with_config(\n",
        "    {\"run_name\": \"stablediffusion_document_retriever\"}\n",
        ")\n",
        "\n",
        "web_retriever = TavilySearchAPIRetriever(k=3).with_config(\n",
        "    {\"run_name\": \"web_retriever\"}\n",
        ")"
      ]
    },
    {
      "cell_type": "code",
      "execution_count": 17,
      "metadata": {
        "id": "3huJv6tdJabR"
      },
      "outputs": [],
      "source": [
        "from enum import Enum\n",
        "\n",
        "\n",
        "class Route(str, Enum):\n",
        "    langchain_document = \"langchain_document\"\n",
        "    web = \"web\"\n",
        "\n",
        "\n",
        "class RouteOutput(BaseModel):\n",
        "    route: Route\n",
        "\n",
        "\n",
        "route_prompt = ChatPromptTemplate.from_template(\"\"\"\\\n",
        "質問に回答するために適切なRetrieverを選択してください。\n",
        "\n",
        "質問: {question}\n",
        "\"\"\")\n",
        "\n",
        "route_chain = (\n",
        "    route_prompt\n",
        "    | model.with_structured_output(RouteOutput)\n",
        "    | (lambda x: x.route)\n",
        ")"
      ]
    },
    {
      "cell_type": "code",
      "execution_count": 18,
      "metadata": {
        "id": "wMZzeyP1JabR"
      },
      "outputs": [],
      "source": [
        "def routed_retriever(inp: dict[str, Any]) -> list[Document]:\n",
        "    question = inp[\"question\"]\n",
        "    route = inp[\"route\"]\n",
        "\n",
        "    if route == Route.langchain_document:\n",
        "        return langchain_document_retriever.invoke(question)\n",
        "    elif route == Route.web:\n",
        "        return web_retriever.invoke(question)\n",
        "\n",
        "    raise ValueError(f\"Unknown route: {route}\")\n",
        "\n",
        "\n",
        "route_rag_chain = (\n",
        "    {\n",
        "        \"question\": RunnablePassthrough(),\n",
        "        \"route\": route_chain,\n",
        "    }\n",
        "    | RunnablePassthrough.assign(context=routed_retriever)\n",
        "    | prompt | model | StrOutputParser()\n",
        ")"
      ]
    },
    {
      "cell_type": "code",
      "execution_count": 19,
      "metadata": {
        "id": "HEFlG4IBJabR",
        "colab": {
          "base_uri": "https://localhost:8080/",
          "height": 72
        },
        "outputId": "84b75f00-7247-461d-dcb5-a6e5b569ce96"
      },
      "outputs": [
        {
          "output_type": "execute_result",
          "data": {
            "text/plain": [
              "'Stable Diffusionは、Stability AIが開発した画像生成AIで、テキストプロンプトに基づいて高品質な画像を生成することが特徴です。この生成型人工知能モデルは、テキストや画像プロンプトから写真のようにリアルな独自の画像を生成します。初めてリリースされたのは2022年です。アート、デザイン、エンターテインメントなど、さまざまな分野で利用されています。'"
            ],
            "application/vnd.google.colaboratory.intrinsic+json": {
              "type": "string"
            }
          },
          "metadata": {},
          "execution_count": 19
        }
      ],
      "source": [
        "route_rag_chain.invoke(\"Stablediffusionの概要を教えて\")"
      ]
    },
    {
      "cell_type": "code",
      "execution_count": 20,
      "metadata": {
        "id": "obwOeFlpJabR",
        "colab": {
          "base_uri": "https://localhost:8080/",
          "height": 35
        },
        "outputId": "f329e9b9-2027-44bf-85cb-c98c6e899e6a"
      },
      "outputs": [
        {
          "output_type": "execute_result",
          "data": {
            "text/plain": [
              "'東京の今日、2025年5月30日(金)の天気は、気温が16℃/14℃で、降水確率があるとされています。'"
            ],
            "application/vnd.google.colaboratory.intrinsic+json": {
              "type": "string"
            }
          },
          "metadata": {},
          "execution_count": 20
        }
      ],
      "source": [
        "route_rag_chain.invoke(\"東京の今日の天気は？\")"
      ]
    },
    {
      "cell_type": "markdown",
      "metadata": {
        "id": "8NFmfd7rJabR"
      },
      "source": [
        "### ハイブリッド検索の実装\n"
      ]
    },
    {
      "cell_type": "code",
      "execution_count": 21,
      "metadata": {
        "id": "-6UFG8jsJabR",
        "colab": {
          "base_uri": "https://localhost:8080/"
        },
        "outputId": "7a0c3cdc-e086-4513-9319-c2efa5fc2c0a"
      },
      "outputs": [
        {
          "output_type": "stream",
          "name": "stdout",
          "text": [
            "Collecting rank-bm25==0.2.2\n",
            "  Downloading rank_bm25-0.2.2-py3-none-any.whl.metadata (3.2 kB)\n",
            "Requirement already satisfied: numpy in /usr/local/lib/python3.11/dist-packages (from rank-bm25==0.2.2) (1.26.4)\n",
            "Downloading rank_bm25-0.2.2-py3-none-any.whl (8.6 kB)\n",
            "Installing collected packages: rank-bm25\n",
            "Successfully installed rank-bm25-0.2.2\n"
          ]
        }
      ],
      "source": [
        "!pip install rank-bm25==0.2.2"
      ]
    },
    {
      "cell_type": "code",
      "execution_count": 22,
      "metadata": {
        "id": "yomn5cFBJabR"
      },
      "outputs": [],
      "source": [
        "from langchain_community.retrievers import BM25Retriever\n",
        "\n",
        "chroma_retriever = retriever.with_config(\n",
        "    {\"run_name\": \"chroma_retriever\"}\n",
        ")\n",
        "\n",
        "bm25_retriever = BM25Retriever.from_documents(documents).with_config(\n",
        "    {\"run_name\": \"bm25_retriever\"}\n",
        ")"
      ]
    },
    {
      "cell_type": "code",
      "execution_count": 23,
      "metadata": {
        "id": "NWGlQTxbJabR"
      },
      "outputs": [],
      "source": [
        "from langchain_core.runnables import RunnableParallel\n",
        "\n",
        "hybrid_retriever = (\n",
        "    RunnableParallel({\n",
        "        \"chroma_documents\": chroma_retriever,\n",
        "        \"bm25_documents\": bm25_retriever,\n",
        "    })\n",
        "    | (lambda x: [x[\"chroma_documents\"], x[\"bm25_documents\"]])\n",
        "    | reciprocal_rank_fusion\n",
        ")"
      ]
    },
    {
      "cell_type": "code",
      "execution_count": 24,
      "metadata": {
        "id": "rsKcyvdNJabS",
        "colab": {
          "base_uri": "https://localhost:8080/",
          "height": 144
        },
        "outputId": "0662bbd6-6a60-429d-c7e2-a2960554bcf9"
      },
      "outputs": [
        {
          "output_type": "execute_result",
          "data": {
            "text/plain": [
              "'Stable Diffusionは、テキストから画像を生成するための潜在拡散モデルです。このモデルは、CLIP ViT-H/14テキストエンコーダのペンultimate埋め込みに条件付けされており、高解像度の画像を生成する能力を持っています。Stable Diffusionは、さまざまな画像生成タスクに対応しており、特に以下の機能を提供します：\\n\\n1. **テキストから画像生成**: ユーザーが入力したテキストプロンプトに基づいて画像を生成します。\\n2. **画像の修正**: 既存の画像を基に新しい画像を生成する「img2img」機能を提供します。\\n3. **画像のアップスケーリング**: 低解像度の画像を高解像度に変換するためのモデルも含まれています。\\n4. **インペインティング**: 画像の特定の部分を修正または置き換える機能を持っています。\\n\\nStable Diffusionは、オープンソースのプロジェクトであり、さまざまなデータセットでトレーニングされており、ユーザーが独自のモデルをトレーニングしたり、既存のモデルを利用したりすることができます。また、生成された画像には、機械生成されたことを示すための目に見えない透かしが追加されることがあります。\\n\\nこのモデルは、特に高解像度の画像生成において優れた性能を発揮し、さまざまなアプリケーションで利用されています。'"
            ],
            "application/vnd.google.colaboratory.intrinsic+json": {
              "type": "string"
            }
          },
          "metadata": {},
          "execution_count": 24
        }
      ],
      "source": [
        "hybrid_rag_chain = (\n",
        "    {\n",
        "        \"question\": RunnablePassthrough(),\n",
        "        \"context\": hybrid_retriever,\n",
        "    }\n",
        "    | prompt | model | StrOutputParser()\n",
        ")\n",
        "\n",
        "hybrid_rag_chain.invoke(\"Stablediffusionの概要を教えて\")"
      ]
    },
    {
      "cell_type": "code",
      "execution_count": null,
      "metadata": {
        "id": "SMXyj-n1JabS"
      },
      "outputs": [],
      "source": []
    }
  ],
  "metadata": {
    "kernelspec": {
      "display_name": ".venv",
      "language": "python",
      "name": "python3"
    },
    "language_info": {
      "codemirror_mode": {
        "name": "ipython",
        "version": 3
      },
      "file_extension": ".py",
      "mimetype": "text/x-python",
      "name": "python",
      "nbconvert_exporter": "python",
      "pygments_lexer": "ipython3",
      "version": "3.11.9"
    },
    "colab": {
      "provenance": [],
      "name": "6_langchain_handson",
      "include_colab_link": true
    }
  },
  "nbformat": 4,
  "nbformat_minor": 0
}